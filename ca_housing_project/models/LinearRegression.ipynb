{
 "cells": [
  {
   "cell_type": "code",
   "execution_count": 5,
   "id": "e37799f1",
   "metadata": {},
   "outputs": [
    {
     "name": "stdout",
     "output_type": "stream",
     "text": [
      "CV RMSE mean: 69204.32275494756  std: 2372.0707910559104\n",
      "Saved: C:\\Users\\MaxGillum\\Desktop\\492 ML PJ\\cmse492_aml\\ca_housing_project\\models\\linear_regression_model.pkl\n"
     ]
    }
   ],
   "source": [
    "import pandas as pd\n",
    "from pathlib import Path\n",
    "from sklearn.linear_model import LinearRegression\n",
    "from sklearn.model_selection import cross_val_score\n",
    "from sklearn.impute import SimpleImputer\n",
    "import joblib\n",
    "\n",
    "ROOT = Path(\"..\").resolve()\n",
    "DATA_TRAIN = ROOT / \"data\" / \"train\" / \"housing_train.csv\"\n",
    "MODEL_OUT = ROOT / \"models\" / \"linear_regression_model.pkl\"\n",
    "\n",
    "# Load\n",
    "housing = pd.read_csv(DATA_TRAIN)\n",
    "\n",
    "# Separate features/target\n",
    "X = housing.drop(\"median_house_value\", axis=1)\n",
    "y = housing[\"median_house_value\"]\n",
    "\n",
    "# One-hot encode categorical\n",
    "X = pd.get_dummies(X, columns=[\"ocean_proximity\"])\n",
    "\n",
    "# Impute any missing values in numeric columns\n",
    "imputer = SimpleImputer(strategy=\"median\")\n",
    "X = pd.DataFrame(imputer.fit_transform(X), columns=X.columns)\n",
    "\n",
    "# 2. Model Fitting\n",
    "lin_reg = LinearRegression().fit(X, y)\n",
    "\n",
    "# 3. Cross-Validation\n",
    "scores = cross_val_score(lin_reg, X, y, scoring=\"neg_mean_squared_error\", cv=10)\n",
    "rmse_scores = (-scores) ** 0.5\n",
    "print(\"CV RMSE mean:\", rmse_scores.mean(), \" std:\", rmse_scores.std())\n",
    "\n",
    "# 5. Save model\n",
    "joblib.dump(lin_reg, MODEL_OUT)\n",
    "print(\"Saved:\", MODEL_OUT)\n"
   ]
  },
  {
   "cell_type": "code",
   "execution_count": null,
   "id": "3dafce06",
   "metadata": {},
   "outputs": [],
   "source": []
  }
 ],
 "metadata": {
  "kernelspec": {
   "display_name": "Python 3",
   "language": "python",
   "name": "python3"
  },
  "language_info": {
   "codemirror_mode": {
    "name": "ipython",
    "version": 3
   },
   "file_extension": ".py",
   "mimetype": "text/x-python",
   "name": "python",
   "nbconvert_exporter": "python",
   "pygments_lexer": "ipython3",
   "version": "3.13.7"
  }
 },
 "nbformat": 4,
 "nbformat_minor": 5
}
