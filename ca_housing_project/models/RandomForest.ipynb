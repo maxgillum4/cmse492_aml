{
 "cells": [
  {
   "cell_type": "code",
   "execution_count": null,
   "id": "f18e2d77",
   "metadata": {},
   "outputs": [],
   "source": [
    "from pathlib import Path\n",
    "import pandas as pd\n",
    "import numpy as np\n",
    "\n",
    "from sklearn.ensemble import RandomForestRegressor\n",
    "from sklearn.model_selection import cross_val_score, GridSearchCV\n",
    "from sklearn.impute import SimpleImputer\n",
    "\n",
    "import joblib\n",
    "\n",
    "ROOT = Path(\"..\").resolve()\n",
    "DATA_PROC = ROOT / \"data\" / \"train\" / \"housing_train_processed.csv\"  # preferred, if fully numeric\n",
    "DATA_RAW  = ROOT / \"data\" / \"train\" / \"housing_train.csv\"            # fallback if needed\n",
    "MODEL_OUT = ROOT / \"models\" / \"random_forest_model.pkl\"\n"
   ]
  },
  {
   "cell_type": "code",
   "execution_count": null,
   "id": "16b2399e",
   "metadata": {},
   "outputs": [
    {
     "name": "stdout",
     "output_type": "stream",
     "text": [
      "[INFO] Using RAW; will one-hot encode + impute here.\n"
     ]
    },
    {
     "data": {
      "text/html": [
       "<div>\n",
       "<style scoped>\n",
       "    .dataframe tbody tr th:only-of-type {\n",
       "        vertical-align: middle;\n",
       "    }\n",
       "\n",
       "    .dataframe tbody tr th {\n",
       "        vertical-align: top;\n",
       "    }\n",
       "\n",
       "    .dataframe thead th {\n",
       "        text-align: right;\n",
       "    }\n",
       "</style>\n",
       "<table border=\"1\" class=\"dataframe\">\n",
       "  <thead>\n",
       "    <tr style=\"text-align: right;\">\n",
       "      <th></th>\n",
       "      <th>longitude</th>\n",
       "      <th>latitude</th>\n",
       "      <th>housing_median_age</th>\n",
       "      <th>total_rooms</th>\n",
       "      <th>total_bedrooms</th>\n",
       "      <th>population</th>\n",
       "      <th>households</th>\n",
       "      <th>median_income</th>\n",
       "      <th>median_house_value</th>\n",
       "      <th>ocean_proximity</th>\n",
       "    </tr>\n",
       "  </thead>\n",
       "  <tbody>\n",
       "    <tr>\n",
       "      <th>0</th>\n",
       "      <td>-121.46</td>\n",
       "      <td>38.52</td>\n",
       "      <td>29.0</td>\n",
       "      <td>3873.0</td>\n",
       "      <td>797.0</td>\n",
       "      <td>2237.0</td>\n",
       "      <td>706.0</td>\n",
       "      <td>2.1736</td>\n",
       "      <td>72100.0</td>\n",
       "      <td>INLAND</td>\n",
       "    </tr>\n",
       "    <tr>\n",
       "      <th>1</th>\n",
       "      <td>-117.23</td>\n",
       "      <td>33.09</td>\n",
       "      <td>7.0</td>\n",
       "      <td>5320.0</td>\n",
       "      <td>855.0</td>\n",
       "      <td>2015.0</td>\n",
       "      <td>768.0</td>\n",
       "      <td>6.3373</td>\n",
       "      <td>279600.0</td>\n",
       "      <td>NEAR OCEAN</td>\n",
       "    </tr>\n",
       "    <tr>\n",
       "      <th>2</th>\n",
       "      <td>-119.04</td>\n",
       "      <td>35.37</td>\n",
       "      <td>44.0</td>\n",
       "      <td>1618.0</td>\n",
       "      <td>310.0</td>\n",
       "      <td>667.0</td>\n",
       "      <td>300.0</td>\n",
       "      <td>2.8750</td>\n",
       "      <td>82700.0</td>\n",
       "      <td>INLAND</td>\n",
       "    </tr>\n",
       "    <tr>\n",
       "      <th>3</th>\n",
       "      <td>-117.13</td>\n",
       "      <td>32.75</td>\n",
       "      <td>24.0</td>\n",
       "      <td>1877.0</td>\n",
       "      <td>519.0</td>\n",
       "      <td>898.0</td>\n",
       "      <td>483.0</td>\n",
       "      <td>2.2264</td>\n",
       "      <td>112500.0</td>\n",
       "      <td>NEAR OCEAN</td>\n",
       "    </tr>\n",
       "    <tr>\n",
       "      <th>4</th>\n",
       "      <td>-118.70</td>\n",
       "      <td>34.28</td>\n",
       "      <td>27.0</td>\n",
       "      <td>3536.0</td>\n",
       "      <td>646.0</td>\n",
       "      <td>1837.0</td>\n",
       "      <td>580.0</td>\n",
       "      <td>4.4964</td>\n",
       "      <td>238300.0</td>\n",
       "      <td>&lt;1H OCEAN</td>\n",
       "    </tr>\n",
       "  </tbody>\n",
       "</table>\n",
       "</div>"
      ],
      "text/plain": [
       "   longitude  latitude  housing_median_age  total_rooms  total_bedrooms  \\\n",
       "0    -121.46     38.52                29.0       3873.0           797.0   \n",
       "1    -117.23     33.09                 7.0       5320.0           855.0   \n",
       "2    -119.04     35.37                44.0       1618.0           310.0   \n",
       "3    -117.13     32.75                24.0       1877.0           519.0   \n",
       "4    -118.70     34.28                27.0       3536.0           646.0   \n",
       "\n",
       "   population  households  median_income  median_house_value ocean_proximity  \n",
       "0      2237.0       706.0         2.1736             72100.0          INLAND  \n",
       "1      2015.0       768.0         6.3373            279600.0      NEAR OCEAN  \n",
       "2       667.0       300.0         2.8750             82700.0          INLAND  \n",
       "3       898.0       483.0         2.2264            112500.0      NEAR OCEAN  \n",
       "4      1837.0       580.0         4.4964            238300.0       <1H OCEAN  "
      ]
     },
     "execution_count": 3,
     "metadata": {},
     "output_type": "execute_result"
    }
   ],
   "source": [
    "# Try processed; fallback to raw if objects remain\n",
    "try:\n",
    "    housing = pd.read_csv(DATA_PROC)\n",
    "    if len(housing.select_dtypes(include=\"object\").columns) > 0:\n",
    "        raise ValueError(\"Processed file still has object dtypes.\")\n",
    "except Exception:\n",
    "    print(\"[INFO] Using RAW; will one-hot encode + impute here.\")\n",
    "    housing = pd.read_csv(DATA_RAW)\n",
    "\n",
    "housing.head()\n"
   ]
  },
  {
   "cell_type": "code",
   "execution_count": null,
   "id": "6e253e2b",
   "metadata": {},
   "outputs": [
    {
     "data": {
      "text/plain": [
       "((16512, 13), (16512,))"
      ]
     },
     "execution_count": 4,
     "metadata": {},
     "output_type": "execute_result"
    }
   ],
   "source": [
    "y = housing[\"median_house_value\"].copy()\n",
    "X = housing.drop(columns=[\"median_house_value\"])\n",
    "\n",
    "# One-hot if needed\n",
    "if \"ocean_proximity\" in X.columns and X[\"ocean_proximity\"].dtype == \"object\":\n",
    "    X = pd.get_dummies(X, columns=[\"ocean_proximity\"])\n",
    "\n",
    "# Impute NaNs (trees don’t need scaling)\n",
    "X = pd.DataFrame(SimpleImputer(strategy=\"median\").fit_transform(X), columns=X.columns)\n",
    "\n",
    "X.shape, y.shape\n"
   ]
  },
  {
   "cell_type": "code",
   "execution_count": 7,
   "id": "ac72ebc8",
   "metadata": {},
   "outputs": [
    {
     "name": "stdout",
     "output_type": "stream",
     "text": [
      "Baseline RF CV RMSE  mean: 49429.197374838055   std: 2121.8163210319776\n"
     ]
    }
   ],
   "source": [
    "rf = RandomForestRegressor(random_state=42, n_estimators=100)\n",
    "scores = cross_val_score(rf, X, y, scoring=\"neg_mean_squared_error\", cv=10, n_jobs=-1)\n",
    "rmse = np.sqrt(-scores)\n",
    "print(\"Baseline RF CV RMSE  mean:\", rmse.mean(), \"  std:\", rmse.std())\n"
   ]
  },
  {
   "cell_type": "code",
   "execution_count": null,
   "id": "4346c84a",
   "metadata": {},
   "outputs": [],
   "source": [
    "param_grid = {\n",
    "    \"n_estimators\": [100, 200, 400],\n",
    "    \"max_depth\": [None, 10, 20, 30],\n",
    "    \"min_samples_split\": [2, 5, 10],\n",
    "    \"min_samples_leaf\": [1, 2, 5],\n",
    "    \"max_features\": [\"sqrt\", \"log2\", None],\n",
    "    \"bootstrap\": [True, False],\n",
    "}\n",
    "\n",
    "grid = GridSearchCV(\n",
    "    RandomForestRegressor(random_state=42),\n",
    "    param_grid,\n",
    "    scoring=\"neg_mean_squared_error\",\n",
    "    cv=5,\n",
    "    n_jobs=-1,\n",
    "    verbose=0\n",
    ")\n",
    "grid.fit(X, y)\n",
    "\n",
    "best_rmse = np.sqrt(-grid.best_score_)\n",
    "print(\"Best params:\", grid.best_params_)\n",
    "print(\"Best CV RMSE:\", best_rmse)\n"
   ]
  },
  {
   "cell_type": "code",
   "execution_count": null,
   "id": "c95068bf",
   "metadata": {},
   "outputs": [],
   "source": [
    "best_rf = RandomForestRegressor(random_state=42, **grid.best_params_)\n",
    "best_rf.fit(X, y)\n",
    "\n",
    "scores_best = cross_val_score(best_rf, X, y, scoring=\"neg_mean_squared_error\", cv=10, n_jobs=-1)\n",
    "rmse_best = np.sqrt(-scores_best)\n",
    "print(\"Refit RF 10-fold CV RMSE  mean:\", rmse_best.mean(), \"  std:\", rmse_best.std())\n"
   ]
  },
  {
   "cell_type": "code",
   "execution_count": null,
   "id": "4d124dc7",
   "metadata": {},
   "outputs": [],
   "source": [
    "MODEL_OUT.parent.mkdir(parents=True, exist_ok=True)\n",
    "joblib.dump(best_rf, MODEL_OUT)\n",
    "print(\"Saved:\", MODEL_OUT)\n"
   ]
  },
  {
   "cell_type": "markdown",
   "id": "0a0fde58",
   "metadata": {},
   "source": [
    "- Random Forests reduce variance via averaging (Géron Ch. 7).\n",
    "- No scaling is required; imputation handles NaNs.\n",
    "- Grid searched depth/samples/features to regularize.\n"
   ]
  },
  {
   "cell_type": "markdown",
   "id": "e44eb754",
   "metadata": {},
   "source": []
  },
  {
   "cell_type": "markdown",
   "id": "53bc171b",
   "metadata": {},
   "source": []
  }
 ],
 "metadata": {
  "kernelspec": {
   "display_name": "Python 3",
   "language": "python",
   "name": "python3"
  },
  "language_info": {
   "codemirror_mode": {
    "name": "ipython",
    "version": 3
   },
   "file_extension": ".py",
   "mimetype": "text/x-python",
   "name": "python",
   "nbconvert_exporter": "python",
   "pygments_lexer": "ipython3",
   "version": "3.13.7"
  }
 },
 "nbformat": 4,
 "nbformat_minor": 5
}
