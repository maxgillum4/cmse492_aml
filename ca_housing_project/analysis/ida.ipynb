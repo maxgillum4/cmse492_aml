{
 "cells": [
  {
   "cell_type": "code",
   "execution_count": 1,
   "id": "e9049054",
   "metadata": {},
   "outputs": [],
   "source": [
    "from pathlib import Path\n",
    "import pandas as pd\n",
    "import numpy as np\n",
    "from sklearn.model_selection import StratifiedShuffleSplit\n",
    "import matplotlib.pyplot as plt\n",
    "import seaborn as sns\n",
    "\n",
    "# paths - assuming this notebook is in /analysis\n",
    "ROOT = Path(\"..\").resolve()\n",
    "DATA_RAW   = ROOT / \"data\" / \"raw\" / \"housing.csv\"\n",
    "DATA_TRAIN = ROOT / \"data\" / \"train\"\n",
    "DATA_TEST  = ROOT / \"data\" / \"test\"\n",
    "IMAGES     = ROOT / \"images\"\n",
    "\n",
    "DATA_TRAIN.mkdir(parents=True, exist_ok=True)\n",
    "DATA_TEST.mkdir(parents=True, exist_ok=True)\n",
    "IMAGES.mkdir(parents=True, exist_ok=True)\n"
   ]
  },
  {
   "cell_type": "code",
   "execution_count": null,
   "id": "7af76d1f",
   "metadata": {},
   "outputs": [],
   "source": []
  }
 ],
 "metadata": {
  "kernelspec": {
   "display_name": "Python 3",
   "language": "python",
   "name": "python3"
  },
  "language_info": {
   "codemirror_mode": {
    "name": "ipython",
    "version": 3
   },
   "file_extension": ".py",
   "mimetype": "text/x-python",
   "name": "python",
   "nbconvert_exporter": "python",
   "pygments_lexer": "ipython3",
   "version": "3.13.7"
  }
 },
 "nbformat": 4,
 "nbformat_minor": 5
}
