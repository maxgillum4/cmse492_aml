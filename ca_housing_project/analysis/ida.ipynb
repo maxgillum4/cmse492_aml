from pathlib import Path
import pandas as pd
import numpy as np
from sklearn.model_selection import StratifiedShuffleSplit
import matplotlib.pyplot as plt
import seaborn as sns

# paths
ROOT = Path.cwd().parents[0] if Path.cwd().name == "analysis" else Path.cwd()
DATA_RAW   = ROOT / "data" / "raw" / "housing.csv"
DATA_TRAIN = ROOT / "data" / "train"
DATA_TEST  = ROOT / "data" / "test"
IMAGES     = ROOT / "images"

DATA_TRAIN.mkdir(parents=True, exist_ok=True)
DATA_TEST.mkdir(parents=True, exist_ok=True)
IMAGES.mkdir(parents=True, exist_ok=True)

# load raw
df = pd.read_csv(DATA_RAW)
df.head()


# income_cat for stratified split (classic 5-bin scheme)
df["income_cat"] = pd.cut(df["median_income"],
                          bins=[0., 1.5, 3., 4.5, 6., np.inf],
                          labels=[1, 2, 3, 4, 5])

split = StratifiedShuffleSplit(n_splits=1, test_size=0.2, random_state=42)
for train_idx, test_idx in split.split(df, df["income_cat"]):
    train_set = df.loc[train_idx].drop(columns=["income_cat"])
    test_set  = df.loc[test_idx].drop(columns=["income_cat"])

print(train_set.shape, test_set.shape)
train_set.head()

def income_cat_share(frame):
    cat = pd.cut(frame["median_income"], bins=[0.,1.5,3.,4.5,6.,np.inf], labels=[1,2,3,4,5])
    return cat.value_counts(normalize=True).sort_index()

orig_share = income_cat_share(df)
train_share = income_cat_share(train_raw)
test_share = income_cat_share(test_raw)
check = pd.DataFrame({"orig":orig_share, "train":train_share, "test":test_share, "abs_diff_train":(train_share-orig_share).abs(), "abs_diff_test":(test_share-orig_share).abs()})
check

num_cols = ["housing_median_age","total_rooms","total_bedrooms","population","households","median_income","median_house_value"]
ax = train_raw[num_cols].hist(bins=30, figsize=(10,7))
plt.tight_layout()
plt.savefig(IMAGES / "train_histograms.png", dpi=150)
plt.show()


plt.figure(figsize=(8,6))
train_raw.plot(kind="scatter", x="longitude", y="latitude",
               s=train_raw["population"]/100, c="median_house_value",
               cmap="viridis", alpha=0.5, colorbar=True)
plt.tight_layout()
plt.savefig(IMAGES / "geo_scatter_value_population.png", dpi=150)
plt.show()

plt.figure(figsize=(8,6))
corr = train_raw.drop(columns=["ocean_proximity"]).corr(numeric_only=True)
sns.heatmap(corr, cmap="vlag", center=0)
plt.title("Correlation heatmap - train")
plt.tight_layout()
plt.savefig(IMAGES / "corr_heatmap_train.png", dpi=150)
plt.show()

print("Saved files:")
print(" -", DATA_TRAIN / "housing_train.csv")
print(" -", DATA_TEST  / "housing_test.csv")
print("Images saved to:", IMAGES)




