{
 "cells": [
  {
   "cell_type": "code",
   "execution_count": 1,
   "id": "027ee3bf",
   "metadata": {},
   "outputs": [],
   "source": [
    "from pathlib import Path\n",
    "import pandas as pd\n",
    "import numpy as np\n",
    "\n",
    "from sklearn.svm import SVR\n",
    "from sklearn.pipeline import Pipeline\n",
    "from sklearn.model_selection import cross_val_score, GridSearchCV, RandomizedSearchCV\n",
    "from sklearn.preprocessing import StandardScaler\n",
    "from sklearn.impute import SimpleImputer\n",
    "\n",
    "import joblib\n",
    "\n",
    "ROOT = Path(\"..\").resolve()\n",
    "DATA_PROC = ROOT / \"data\" / \"train\" / \"housing_train_processed.csv\"  # use if fully numeric\n",
    "DATA_RAW  = ROOT / \"data\" / \"train\" / \"housing_train.csv\"            # fallback\n",
    "MODEL_OUT = ROOT / \"models\" / \"svr_model.pkl\"\n"
   ]
  },
  {
   "cell_type": "code",
   "execution_count": 2,
   "id": "e3c60358",
   "metadata": {},
   "outputs": [
    {
     "name": "stdout",
     "output_type": "stream",
     "text": [
      "[INFO] Using RAW; will one-hot encode inside the pipeline.\n"
     ]
    },
    {
     "data": {
      "text/html": [
       "<div>\n",
       "<style scoped>\n",
       "    .dataframe tbody tr th:only-of-type {\n",
       "        vertical-align: middle;\n",
       "    }\n",
       "\n",
       "    .dataframe tbody tr th {\n",
       "        vertical-align: top;\n",
       "    }\n",
       "\n",
       "    .dataframe thead th {\n",
       "        text-align: right;\n",
       "    }\n",
       "</style>\n",
       "<table border=\"1\" class=\"dataframe\">\n",
       "  <thead>\n",
       "    <tr style=\"text-align: right;\">\n",
       "      <th></th>\n",
       "      <th>longitude</th>\n",
       "      <th>latitude</th>\n",
       "      <th>housing_median_age</th>\n",
       "      <th>total_rooms</th>\n",
       "      <th>total_bedrooms</th>\n",
       "      <th>population</th>\n",
       "      <th>households</th>\n",
       "      <th>median_income</th>\n",
       "      <th>median_house_value</th>\n",
       "      <th>ocean_proximity</th>\n",
       "    </tr>\n",
       "  </thead>\n",
       "  <tbody>\n",
       "    <tr>\n",
       "      <th>0</th>\n",
       "      <td>-121.46</td>\n",
       "      <td>38.52</td>\n",
       "      <td>29.0</td>\n",
       "      <td>3873.0</td>\n",
       "      <td>797.0</td>\n",
       "      <td>2237.0</td>\n",
       "      <td>706.0</td>\n",
       "      <td>2.1736</td>\n",
       "      <td>72100.0</td>\n",
       "      <td>INLAND</td>\n",
       "    </tr>\n",
       "    <tr>\n",
       "      <th>1</th>\n",
       "      <td>-117.23</td>\n",
       "      <td>33.09</td>\n",
       "      <td>7.0</td>\n",
       "      <td>5320.0</td>\n",
       "      <td>855.0</td>\n",
       "      <td>2015.0</td>\n",
       "      <td>768.0</td>\n",
       "      <td>6.3373</td>\n",
       "      <td>279600.0</td>\n",
       "      <td>NEAR OCEAN</td>\n",
       "    </tr>\n",
       "    <tr>\n",
       "      <th>2</th>\n",
       "      <td>-119.04</td>\n",
       "      <td>35.37</td>\n",
       "      <td>44.0</td>\n",
       "      <td>1618.0</td>\n",
       "      <td>310.0</td>\n",
       "      <td>667.0</td>\n",
       "      <td>300.0</td>\n",
       "      <td>2.8750</td>\n",
       "      <td>82700.0</td>\n",
       "      <td>INLAND</td>\n",
       "    </tr>\n",
       "    <tr>\n",
       "      <th>3</th>\n",
       "      <td>-117.13</td>\n",
       "      <td>32.75</td>\n",
       "      <td>24.0</td>\n",
       "      <td>1877.0</td>\n",
       "      <td>519.0</td>\n",
       "      <td>898.0</td>\n",
       "      <td>483.0</td>\n",
       "      <td>2.2264</td>\n",
       "      <td>112500.0</td>\n",
       "      <td>NEAR OCEAN</td>\n",
       "    </tr>\n",
       "    <tr>\n",
       "      <th>4</th>\n",
       "      <td>-118.70</td>\n",
       "      <td>34.28</td>\n",
       "      <td>27.0</td>\n",
       "      <td>3536.0</td>\n",
       "      <td>646.0</td>\n",
       "      <td>1837.0</td>\n",
       "      <td>580.0</td>\n",
       "      <td>4.4964</td>\n",
       "      <td>238300.0</td>\n",
       "      <td>&lt;1H OCEAN</td>\n",
       "    </tr>\n",
       "  </tbody>\n",
       "</table>\n",
       "</div>"
      ],
      "text/plain": [
       "   longitude  latitude  housing_median_age  total_rooms  total_bedrooms  \\\n",
       "0    -121.46     38.52                29.0       3873.0           797.0   \n",
       "1    -117.23     33.09                 7.0       5320.0           855.0   \n",
       "2    -119.04     35.37                44.0       1618.0           310.0   \n",
       "3    -117.13     32.75                24.0       1877.0           519.0   \n",
       "4    -118.70     34.28                27.0       3536.0           646.0   \n",
       "\n",
       "   population  households  median_income  median_house_value ocean_proximity  \n",
       "0      2237.0       706.0         2.1736             72100.0          INLAND  \n",
       "1      2015.0       768.0         6.3373            279600.0      NEAR OCEAN  \n",
       "2       667.0       300.0         2.8750             82700.0          INLAND  \n",
       "3       898.0       483.0         2.2264            112500.0      NEAR OCEAN  \n",
       "4      1837.0       580.0         4.4964            238300.0       <1H OCEAN  "
      ]
     },
     "execution_count": 2,
     "metadata": {},
     "output_type": "execute_result"
    }
   ],
   "source": [
    "# Prefer processed if it's numeric; else fallback to raw\n",
    "try:\n",
    "    housing = pd.read_csv(DATA_PROC)\n",
    "    if len(housing.select_dtypes(include=\"object\").columns) > 0:\n",
    "        raise ValueError(\"Processed file still has object dtypes.\")\n",
    "except Exception:\n",
    "    print(\"[INFO] Using RAW; will one-hot encode inside the pipeline.\")\n",
    "    housing = pd.read_csv(DATA_RAW)\n",
    "\n",
    "housing.head()\n"
   ]
  },
  {
   "cell_type": "code",
   "execution_count": 3,
   "id": "1c11da3d",
   "metadata": {},
   "outputs": [
    {
     "data": {
      "text/plain": [
       "((16512, 13), (16512,))"
      ]
     },
     "execution_count": 3,
     "metadata": {},
     "output_type": "execute_result"
    }
   ],
   "source": [
    "y = housing[\"median_house_value\"].copy()\n",
    "X = housing.drop(columns=[\"median_house_value\"])\n",
    "\n",
    "# If 'ocean_proximity' still exists as strings, we'll handle it with get_dummies() here\n",
    "# (Alternatively, you can one-hot inside the pipeline with ColumnTransformer; this is simpler.)\n",
    "if \"ocean_proximity\" in X.columns and X[\"ocean_proximity\"].dtype == \"object\":\n",
    "    X = pd.get_dummies(X, columns=[\"ocean_proximity\"])\n",
    "\n",
    "X.shape, y.shape\n"
   ]
  },
  {
   "cell_type": "code",
   "execution_count": 4,
   "id": "3ae258fb",
   "metadata": {},
   "outputs": [
    {
     "name": "stdout",
     "output_type": "stream",
     "text": [
      "Baseline SVR 5-fold CV RMSE  mean: 118574.95234732796  std: 856.8782557106289\n"
     ]
    }
   ],
   "source": [
    "pipe = Pipeline(steps=[\n",
    "    (\"imputer\", SimpleImputer(strategy=\"median\")),\n",
    "    (\"scaler\", StandardScaler()),\n",
    "    (\"svr\", SVR())  # default: rbf kernel, C=1.0, gamma='scale'\n",
    "])\n",
    "\n",
    "scores = cross_val_score(pipe, X, y,\n",
    "                         scoring=\"neg_mean_squared_error\",\n",
    "                         cv=5, n_jobs=-1)\n",
    "rmse = np.sqrt(-scores)\n",
    "print(\"Baseline SVR 5-fold CV RMSE  mean:\", rmse.mean(), \" std:\", rmse.std())\n"
   ]
  },
  {
   "cell_type": "code",
   "execution_count": 5,
   "id": "6ad442c0",
   "metadata": {},
   "outputs": [
    {
     "name": "stdout",
     "output_type": "stream",
     "text": [
      "Fitting 5 folds for each of 30 candidates, totalling 150 fits\n",
      "Best params: {'svr__C': np.float64(8.471801418819979), 'svr__gamma': 'scale', 'svr__kernel': 'linear'}\n",
      "Best CV RMSE: 83445.14147258109\n"
     ]
    }
   ],
   "source": [
    "from scipy.stats import loguniform\n",
    "\n",
    "rand = RandomizedSearchCV(\n",
    "    estimator=pipe,\n",
    "    param_distributions={\n",
    "        \"svr__kernel\": [\"linear\", \"rbf\"],\n",
    "        \"svr__C\": loguniform(1e-2, 1e2),     # sample C ~ log-uniform(0.01, 100)\n",
    "        # gamma is used for 'rbf'; harmless for 'linear'\n",
    "        \"svr__gamma\": [\"scale\", \"auto\"]\n",
    "    },\n",
    "    n_iter=30,               # try 20–50 depending on speed\n",
    "    scoring=\"neg_mean_squared_error\",\n",
    "    cv=5,\n",
    "    n_jobs=-1,\n",
    "    random_state=42,\n",
    "    verbose=1\n",
    ")\n",
    "rand.fit(X, y)\n",
    "\n",
    "best_rmse = np.sqrt(-rand.best_score_)\n",
    "print(\"Best params:\", rand.best_params_)\n",
    "print(\"Best CV RMSE:\", best_rmse)\n",
    "\n",
    "best_svr = rand.best_estimator_\n"
   ]
  },
  {
   "cell_type": "code",
   "execution_count": null,
   "id": "566b9af9",
   "metadata": {},
   "outputs": [],
   "source": []
  }
 ],
 "metadata": {
  "kernelspec": {
   "display_name": "Python 3",
   "language": "python",
   "name": "python3"
  },
  "language_info": {
   "codemirror_mode": {
    "name": "ipython",
    "version": 3
   },
   "file_extension": ".py",
   "mimetype": "text/x-python",
   "name": "python",
   "nbconvert_exporter": "python",
   "pygments_lexer": "ipython3",
   "version": "3.13.7"
  }
 },
 "nbformat": 4,
 "nbformat_minor": 5
}
